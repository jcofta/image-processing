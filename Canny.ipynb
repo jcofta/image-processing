{
 "cells": [
  {
   "cell_type": "code",
   "execution_count": 2,
   "metadata": {
    "collapsed": false
   },
   "outputs": [
    {
     "data": {
      "text/plain": [
       "<matplotlib.image.AxesImage at 0x7fd241acf710>"
      ]
     },
     "execution_count": 2,
     "metadata": {},
     "output_type": "execute_result"
    },
    {
     "data": {
      "image/png": "[encoded data removed]",
      "text/plain": [
       "<matplotlib.figure.Figure at 0x7fd26df7e438>"
      ]
     },
     "metadata": {},
     "output_type": "display_data"
    }
   ],
   "source": [
    "get_ipython().magic('matplotlib inline')\n",
    "from pylab import *\n",
    "import skimage\n",
    "import img\n",
    "import ipywidgets as widgets\n",
    "import skimage.morphology as mp\n",
    "from skimage import data, io, filters, exposure, feature\n",
    "from skimage.filters import rank\n",
    "from skimage.util.dtype import convert\n",
    "from skimage import img_as_float, img_as_ubyte\n",
    "from skimage.io import imshow\n",
    "from skimage.io import imshow_collection\n",
    "from skimage.viewer import ImageViewer\n",
    "from skimage.color import rgb2hsv, hsv2rgb, rgb2gray\n",
    "from skimage.filters.edges import convolve\n",
    "from matplotlib import pylab as plt  \n",
    "import numpy as np\n",
    "from numpy import array\n",
    "from IPython.display import display\n",
    "from ipywidgets import interact, interactive, fixed\n",
    "from IPython.core.display import clear_output\n",
    "from skimage import data, img_as_float\n",
    "from skimage import exposure\n",
    "from skimage.morphology import disk\n",
    "from skimage import measure\n",
    "from skimage.feature import canny\n",
    "import warnings\n",
    "warnings.simplefilter(\"ignore\")\n",
    "\n",
    "\n",
    "\n",
    "\n",
    "probe1=io.imread(\"img/probe_cam5.JPG\")\n",
    "\n",
    "\n",
    "    \n",
    "probe1 = rgb2gray(probe1)\n",
    "probe1 = img_as_ubyte(probe1)\n",
    "\n",
    "edges = canny(probe1, sigma=2)\n",
    "imshow(edges,cmap=plt.cm.gray) \n",
    "\n",
    "\n",
    "\n",
    "\n",
    "    \n",
    "    \n",
    "#fig = plt.figure(figsize=(15,5))\n",
    "#imshow(dilat,cmap=plt.cm.gray)\n",
    "\n",
    "\n",
    "    \n",
    "    \n",
    "    \n",
    "\n",
    "\n",
    "\n",
    "\n"
   ]
  },
  {
   "cell_type": "code",
   "execution_count": null,
   "metadata": {
    "collapsed": true
   },
   "outputs": [],
   "source": []
  }
 ],
 "metadata": {
  "kernelspec": {
   "display_name": "Python 3",
   "language": "python",
   "name": "python3"
  },
  "language_info": {
   "codemirror_mode": {
    "name": "ipython",
    "version": 3
   },
   "file_extension": ".py",
   "mimetype": "text/x-python",
   "name": "python",
   "nbconvert_exporter": "python",
   "pygments_lexer": "ipython3",
   "version": "3.4.3"
  }
 },
 "nbformat": 4,
 "nbformat_minor": 1
}
